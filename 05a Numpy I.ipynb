{
 "cells": [
  {
   "cell_type": "markdown",
   "metadata": {},
   "source": [
    "# Numpy - Numerical Python I"
   ]
  },
  {
   "cell_type": "markdown",
   "metadata": {},
   "source": [
    "References:\n",
    "General: https://www.tutorialspoint.com/numpy/\n",
    "Data types: https://www.tutorialspoint.com/numpy/numpy_data_types.htm   "
   ]
  },
  {
   "cell_type": "markdown",
   "metadata": {},
   "source": [
    "Numpy is the most popular library for scientific computer in python.\n",
    "\n",
    "It provides high speed multidimensional array tools.\n",
    "\n",
    "An array is like a list but contains only elements of the same type. \n",
    "\n",
    "Array manipulation and linear algebra\n"
   ]
  },
  {
   "cell_type": "code",
   "execution_count": null,
   "metadata": {},
   "outputs": [],
   "source": [
    "import numpy as np"
   ]
  },
  {
   "cell_type": "code",
   "execution_count": null,
   "metadata": {},
   "outputs": [],
   "source": [
    "l = [1, 2, 3 , 4]\n",
    "a = np.array([1, 2, 3 , 4])\n",
    "\n",
    "print(type(l))\n",
    "print(type(a))"
   ]
  },
  {
   "cell_type": "code",
   "execution_count": null,
   "metadata": {},
   "outputs": [],
   "source": [
    "l = [[1, 2, 3 , 4],[5, 6 ,7, 8]]\n",
    "print('List:\\n', l)\n",
    "\n",
    "a = np.array([[1, 2, 3 , 4],[5, 6 ,7, 8]])\n",
    "print('\\nArray:\\n', a)"
   ]
  },
  {
   "cell_type": "code",
   "execution_count": null,
   "metadata": {},
   "outputs": [],
   "source": [
    "l = [[1, 2, 3],[5, 6 ,7, 8]]\n",
    "print(l[1][2])\n",
    "\n",
    "a = np.array([[1, 2, 3 , 4],[5, 6 ,7, 8]])\n",
    "print(a[1][2])"
   ]
  },
  {
   "cell_type": "code",
   "execution_count": null,
   "metadata": {},
   "outputs": [],
   "source": [
    "l = [[1, 2, 3],[5, 6 ,7, 8]]\n",
    "print('mylist:\\n', l,'\\n')\n",
    "\n",
    "a = np.array([[1, 2, 3],[5, 6 ,7, 8]]) #Inconsistent dimensions\n",
    "print('myarray:\\n', a,'\\n')      #Get saved as a list, symmetry is forced\n",
    "print(a[1])"
   ]
  },
  {
   "cell_type": "code",
   "execution_count": null,
   "metadata": {},
   "outputs": [],
   "source": [
    "#Convert a list into an array\n",
    "a = [1, 2, 3, 4]\n",
    "\n",
    "b = np.array(a)\n",
    "print(b)\n",
    "print(type(b))"
   ]
  },
  {
   "cell_type": "code",
   "execution_count": null,
   "metadata": {},
   "outputs": [],
   "source": [
    "#Convert a tuple into an array\n",
    "a = 1, 2, 3, 4 #Tuple\n",
    "\n",
    "b = np.array(a)\n",
    "print(b)\n",
    "print(type(b))"
   ]
  },
  {
   "cell_type": "code",
   "execution_count": null,
   "metadata": {},
   "outputs": [],
   "source": [
    "#Slicing I\n",
    "a = [0, 1, 2, 3, 4, 5, 6 , 7, 8, 9, 10]\n",
    "\n",
    "print(a[1:4]) #Print positions 1 to 3 included\n",
    "print(a[1:8:2]) #Print postions 1 to 7 in steps of 2\n"
   ]
  },
  {
   "cell_type": "code",
   "execution_count": null,
   "metadata": {},
   "outputs": [],
   "source": [
    "#Slicing II\n",
    "\n",
    "a = np.array([[1, 2, 3],[4, 5, 6], [7, 8, 9]])\n",
    "print(a, '\\n')\n",
    "\n",
    "print(a[...,1]) #print column 1. \n",
    "\n",
    "print('\\n',a[2,...]) #pring row 2\n",
    "\n",
    "print('\\n',a[1:,1:]) #pring row 2"
   ]
  },
  {
   "cell_type": "code",
   "execution_count": null,
   "metadata": {},
   "outputs": [],
   "source": [
    "a = np.array([[1, 2, 3],[4, 5, 6], [7, 8, 9]])\n",
    "print(a, '\\n')\n",
    "print(a[[0,1,2], [0,2,0]]) #Print elements in locations (0,0) (1,2) and (2,0)"
   ]
  },
  {
   "cell_type": "markdown",
   "metadata": {},
   "source": [
    "Data types:\n",
    "\n",
    "Numpy manage many multiple data types.\n",
    "\n",
    "Most common are boolean, integer, and float.\n",
    "\n",
    "It is possible to specify data type and storage requirements:"
   ]
  },
  {
   "cell_type": "code",
   "execution_count": null,
   "metadata": {},
   "outputs": [],
   "source": [
    "a = np.array([[3],[4],[5]], dtype = 'int8') #-128 to 127. Based on the number of bites, Change values\n",
    "print('a:\\n', a)"
   ]
  },
  {
   "cell_type": "code",
   "execution_count": null,
   "metadata": {},
   "outputs": [],
   "source": [
    "a = np.array([3, 4, 5], dtype = 'int64')\n",
    "print('a:\\n', a)  #-9223372036854775808 to 9223372036854775807"
   ]
  },
  {
   "cell_type": "code",
   "execution_count": null,
   "metadata": {},
   "outputs": [],
   "source": [
    "a = np.array([3, 4, 5])\n",
    "print(a)\n",
    "print(a.dtype)\n",
    "\n",
    "a = np.array([3, 4, 5], dtype = 'float64')\n",
    "print('\\n',a)\n",
    "print(a.dtype)\n",
    "\n",
    "a = np.array([3, 4, 5], dtype = 'complex128')\n",
    "print('\\n',a)\n",
    "print(a.dtype)"
   ]
  },
  {
   "cell_type": "code",
   "execution_count": null,
   "metadata": {},
   "outputs": [],
   "source": [
    "#Array shape ==> returns a tuple with array dimensions\n",
    "\n",
    "a = np.array([3, 4, 5])\n",
    "print('a:\\n',a)\n",
    "print(a.shape)\n",
    "\n",
    "b = np.array([[3],[4],[5]])\n",
    "print('\\nb:\\n',b)\n",
    "print(b.shape)\n",
    "\n",
    "c = np.array([[1, 2, 3 , 4],[5, 6 ,7, 8]])\n",
    "print('\\nc:\\n',c)\n",
    "print(c.shape)\n"
   ]
  },
  {
   "cell_type": "code",
   "execution_count": null,
   "metadata": {},
   "outputs": [],
   "source": [
    "#function len reads the array as a list\n",
    "\n",
    "a = np.array([3, 4, 5])\n",
    "print(a.shape)\n",
    "print(len(a))\n",
    "\n",
    "b = np.array([[3],[4],[5]])\n",
    "print('\\n',b.shape)\n",
    "print(len(b))\n",
    "\n",
    "c = np.array([[1, 2, 3 , 4],[5, 6 ,7, 8]])\n",
    "print('\\nc', c.shape)\n",
    "print(len(c))\n"
   ]
  },
  {
   "cell_type": "code",
   "execution_count": null,
   "metadata": {},
   "outputs": [],
   "source": [
    "#ndim returns the number of dimensions in the array\n",
    "a = np.array([3, 4, 5])\n",
    "print(a.ndim)\n",
    "\n",
    "\n",
    "b = np.array([[3],[4],[5]])\n",
    "print(b.ndim)\n",
    "\n",
    "c = np.array([[1, 2, 3 , 4],[5, 6 ,7, 8]])\n",
    "print(c.ndim)"
   ]
  },
  {
   "cell_type": "code",
   "execution_count": null,
   "metadata": {},
   "outputs": [],
   "source": [
    "#Reshape function\n",
    "\n",
    "a = np.empty([24]) #Empty array of 24 positions\n",
    "\n",
    "for i in range(24):\n",
    "    a[i] = 2*i  \n",
    "    \n",
    "print('One dimensional array\\n', a )\n",
    "\n",
    "b = a.reshape(2,12)\n",
    "print('\\nTwo dimensional array\\n', b )\n",
    "\n",
    "c = a.reshape(2,3,4)\n",
    "print('\\nThree dimensional array\\n', c )\n",
    "\n",
    "d = c.reshape(2,12)\n",
    "print('\\nTwo dimensional array\\n', c )"
   ]
  },
  {
   "cell_type": "code",
   "execution_count": null,
   "metadata": {},
   "outputs": [],
   "source": [
    "#Flatten\n",
    "\n",
    "a = np.array([[1, 2, 3 , 4],[5, 6 ,7, 8], [9, 10, 11, 12]])\n",
    "print(a)\n",
    "\n",
    "b = a.flatten('C') #By rows, Default or 'C'\n",
    "print('\\n',b)\n",
    "\n",
    "b = a.flatten('F') #By Column\n",
    "print('\\n',b)"
   ]
  }
 ],
 "metadata": {
  "kernelspec": {
   "display_name": "Python 3",
   "language": "python",
   "name": "python3"
  },
  "language_info": {
   "codemirror_mode": {
    "name": "ipython",
    "version": 3
   },
   "file_extension": ".py",
   "mimetype": "text/x-python",
   "name": "python",
   "nbconvert_exporter": "python",
   "pygments_lexer": "ipython3",
   "version": "3.7.3"
  }
 },
 "nbformat": 4,
 "nbformat_minor": 2
}
