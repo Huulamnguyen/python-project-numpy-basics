{
 "cells": [
  {
   "cell_type": "markdown",
   "metadata": {},
   "source": [
    "# Numpy - Numerical Python II"
   ]
  },
  {
   "cell_type": "markdown",
   "metadata": {},
   "source": [
    "References: General: https://www.tutorialspoint.com/numpy/ "
   ]
  },
  {
   "cell_type": "code",
   "execution_count": null,
   "metadata": {},
   "outputs": [],
   "source": [
    "import numpy as np"
   ]
  },
  {
   "cell_type": "code",
   "execution_count": null,
   "metadata": {},
   "outputs": [],
   "source": [
    "#Sequential arrays I\n",
    "a = np.arange(12)\n",
    "print(a)\n",
    "\n",
    "b = np.arange(10,20, 2)\n",
    "print('\\n',b)"
   ]
  },
  {
   "cell_type": "code",
   "execution_count": null,
   "metadata": {},
   "outputs": [],
   "source": [
    "#Sequetial arrays II\n",
    "a = np.linspace(11,20, 11) #Eleven values between 11 and 20 included\n",
    "print('\\n',a)\n",
    "\n",
    "b = np.linspace(11,20, 11, dtype = 'int16') #Eleven values between 11 and 20 included\n",
    "print('\\n',b)\n",
    "\n",
    "c = np.linspace(11,20, 11, retstep=True) #Return difference between consecutive numbers\n",
    "print('\\n',c)"
   ]
  },
  {
   "cell_type": "code",
   "execution_count": null,
   "metadata": {},
   "outputs": [],
   "source": [
    "#Empty array\n",
    "a = np.empty([3,2], dtype='int64') #Change to float\n",
    "print(a)"
   ]
  },
  {
   "cell_type": "code",
   "execution_count": null,
   "metadata": {},
   "outputs": [],
   "source": [
    "#Array of zeros\n",
    "a = np.zeros([3,2])\n",
    "print(a)\n",
    "print(a.dtype) #float 64 by default"
   ]
  },
  {
   "cell_type": "code",
   "execution_count": null,
   "metadata": {},
   "outputs": [],
   "source": [
    "#Array of ones\n",
    "a = np.ones([3,2], dtype = 'int') #Good practice to state data type\n",
    "print(a)"
   ]
  },
  {
   "cell_type": "code",
   "execution_count": null,
   "metadata": {},
   "outputs": [],
   "source": [
    "#Broadcasting\n",
    "\n",
    "a = [1, 2, 3]\n",
    "\n",
    "b = np.array([[1, 2, 3],[4, 5, 6], [7, 8, 9]])"
   ]
  },
  {
   "cell_type": "code",
   "execution_count": null,
   "metadata": {},
   "outputs": [],
   "source": [
    "#Append: Inneficient. Copy the array to a new position.\n",
    "\n",
    "a = np.array([[1, 2, 3],[4, 5, 6], [7, 8, 9]])\n",
    "print(a)\n",
    "\n",
    "b = np.append(a, [10, 11, 12])\n",
    "print('\\n', b)\n",
    "\n",
    "c = np.append(a, [[10, 11, 12]], axis = 0)\n",
    "print('\\n', c)\n",
    "\n",
    "d = np.append(a, [[10], [11], [12]], axis = 1) #Has o be in column form\n",
    "print('\\n', d)"
   ]
  },
  {
   "cell_type": "code",
   "execution_count": null,
   "metadata": {},
   "outputs": [],
   "source": [
    "#Insert \n",
    "\n",
    "a = np.array([[1, 2, 3],[4, 5, 6], [7, 8, 9]])\n",
    "print(a)\n",
    "\n",
    "b = np.insert(a, 2,[[10, 11, 12]], axis = 0)\n",
    "print('\\n', b)\n",
    "\n",
    "c = np.insert(a, 1,[10, 11, 12], axis = 1) #Has o be in column form\n",
    "print('\\n', c)"
   ]
  },
  {
   "cell_type": "code",
   "execution_count": null,
   "metadata": {},
   "outputs": [],
   "source": [
    "#Delete\n",
    "\n",
    "a = np.array([[1, 2, 3],[4, 5, 6], [7, 8, 9]])\n",
    "print(a)\n",
    "\n",
    "b = np.delete(a, 1 ) #Array is flattened \n",
    "print('\\n',b)\n",
    "\n",
    "c = np.delete(a, 1, axis = 0 )\n",
    "print('\\n',c)\n",
    "\n",
    "d = np.delete(a, 1, axis = 1 )\n",
    "print('\\n',d)"
   ]
  },
  {
   "cell_type": "code",
   "execution_count": null,
   "metadata": {},
   "outputs": [],
   "source": [
    "#Round\n",
    "\n",
    "a = np.linspace(1.49,1.51, 11)\n",
    "print(a)\n",
    "\n",
    "b = np.around(a)\n",
    "print('\\n', b)\n",
    "\n",
    "c = np.around(a, decimals = 2)\n",
    "print('\\n', c)"
   ]
  },
  {
   "cell_type": "code",
   "execution_count": null,
   "metadata": {},
   "outputs": [],
   "source": [
    "#Floor & Ceiling\n",
    "\n",
    "a = np.linspace(1.49,1.51, 11)\n",
    "print(a)\n",
    "\n",
    "b = np.floor(a)\n",
    "print('\\n', b)\n",
    "\n",
    "c = np.ceil(a)\n",
    "print('\\n', c)"
   ]
  }
 ],
 "metadata": {
  "kernelspec": {
   "display_name": "Python 3",
   "language": "python",
   "name": "python3"
  },
  "language_info": {
   "codemirror_mode": {
    "name": "ipython",
    "version": 3
   },
   "file_extension": ".py",
   "mimetype": "text/x-python",
   "name": "python",
   "nbconvert_exporter": "python",
   "pygments_lexer": "ipython3",
   "version": "3.7.3"
  }
 },
 "nbformat": 4,
 "nbformat_minor": 2
}
