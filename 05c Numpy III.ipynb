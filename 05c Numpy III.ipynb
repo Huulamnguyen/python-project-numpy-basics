{
 "cells": [
  {
   "cell_type": "markdown",
   "metadata": {},
   "source": [
    "# Numpy - Numerical Python III"
   ]
  },
  {
   "cell_type": "markdown",
   "metadata": {},
   "source": [
    "References:\n",
    "General: https://www.tutorialspoint.com/numpy/  "
   ]
  },
  {
   "cell_type": "code",
   "execution_count": null,
   "metadata": {},
   "outputs": [],
   "source": [
    "import numpy as np"
   ]
  },
  {
   "cell_type": "code",
   "execution_count": null,
   "metadata": {},
   "outputs": [],
   "source": [
    "#Element wise addition\n",
    "\n",
    "a = np.array([1, 2, 6])\n",
    "print(a)\n",
    "\n",
    "b = np.array([2, 5, 8])\n",
    "print(b)\n",
    "\n",
    "c = a + b\n",
    "print(c)"
   ]
  },
  {
   "cell_type": "code",
   "execution_count": null,
   "metadata": {},
   "outputs": [],
   "source": [
    "#Broadcasting\n",
    "\n",
    "a = np.array([1, 2, 6])\n",
    "print(a)\n",
    "\n",
    "b = np.array([[2, 5, 8], [9, 11, 14]])\n",
    "print('\\n',b)\n",
    "\n",
    "c = a + b\n",
    "print('\\n',c)"
   ]
  },
  {
   "cell_type": "code",
   "execution_count": null,
   "metadata": {},
   "outputs": [],
   "source": [
    "#Element wise addition\n",
    "\n",
    "a = np.arange(9, dtype = np.float_).reshape(3,3)\n",
    "print('a:\\n',a)\n",
    "\n",
    "b = np.arange(10,19, dtype = np.float_).reshape(3,3)\n",
    "print('\\nb:\\n',b)\n",
    "\n",
    "c = np.add(a,b) #a + b\n",
    "print('\\nc:\\n',c)"
   ]
  },
  {
   "cell_type": "code",
   "execution_count": null,
   "metadata": {},
   "outputs": [],
   "source": [
    "#Element wise subtraction\n",
    "\n",
    "a = np.arange(9, dtype = np.float_).reshape(3,3)\n",
    "print('a:\\n',a)\n",
    "\n",
    "b = np.arange(10,19, dtype = np.float_).reshape(3,3)\n",
    "print('\\nb:\\n',b)\n",
    "\n",
    "c = np.subtract(a,b) #a - b\n",
    "print('\\nc:\\n',c)"
   ]
  },
  {
   "cell_type": "code",
   "execution_count": null,
   "metadata": {},
   "outputs": [],
   "source": [
    "#Element wise multiplication\n",
    "\n",
    "a = np.arange(9, dtype = np.float_).reshape(3,3)\n",
    "print('a:\\n',a)\n",
    "\n",
    "b = np.arange(10,19, dtype = np.float_).reshape(3,3)\n",
    "print('\\nb:\\n',b)\n",
    "\n",
    "c = np.multiply(a,b) # a*b\n",
    "print('\\nc:\\n',c)"
   ]
  },
  {
   "cell_type": "code",
   "execution_count": null,
   "metadata": {
    "scrolled": true
   },
   "outputs": [],
   "source": [
    "#Element wise power\n",
    "\n",
    "a = np.arange(9, dtype = np.float_).reshape(3,3)\n",
    "print('a:\\n',a)\n",
    "\n",
    "b = np.arange(10,19, dtype = np.float_).reshape(3,3)\n",
    "print('\\nb:\\n',b)\n",
    "\n",
    "c = np.power(a,2) # a**2\n",
    "print('\\nc:\\n',c)\n",
    "\n",
    "d = np.power(a,b) # a**2\n",
    "print('\\nc:\\n',d) # a**b element wise"
   ]
  },
  {
   "cell_type": "code",
   "execution_count": null,
   "metadata": {},
   "outputs": [],
   "source": [
    "#Element wise division\n",
    "\n",
    "a = np.arange(9, dtype = np.float_).reshape(3,3)\n",
    "print('a:\\n',a)\n",
    "\n",
    "b = np.arange(10,19, dtype = np.float_).reshape(3,3)\n",
    "print('\\nb:\\n',b)\n",
    "\n",
    "c = np.divide(a,b) #a / b \n",
    "print('\\nc:\\n',c)"
   ]
  },
  {
   "cell_type": "code",
   "execution_count": null,
   "metadata": {},
   "outputs": [],
   "source": [
    "#Element wise mode\n",
    "\n",
    "a = np.arange(1,10, dtype = np.float_).reshape(3,3)\n",
    "print('a:\\n',a)\n",
    "\n",
    "b = np.arange(10,19, dtype = np.float_).reshape(3,3)\n",
    "print('\\nb:\\n',b)\n",
    "\n",
    "c = np.mod(b,a) #Reminder of b / a\n",
    "print('\\nc:\\n',c)"
   ]
  },
  {
   "cell_type": "code",
   "execution_count": null,
   "metadata": {},
   "outputs": [],
   "source": [
    "#Minimum and maximum\n",
    "\n",
    "a = np.array([[3,7,5],[8,4,3],[2,4,9]]) \n",
    "print(a)\n",
    "print('\\n',np.min(a))    #Minimim of all\n",
    "print(np.min(a, 1)) #Minimum of each row\n",
    "print(np.min(a, 0)) #Minimum of each column"
   ]
  },
  {
   "cell_type": "code",
   "execution_count": null,
   "metadata": {},
   "outputs": [],
   "source": [
    "#Shallow copy\n",
    "\n",
    "a = np.array([[1,3], [2, 4]])\n",
    "print('a:\\n',a)\n",
    "\n",
    "b = a\n",
    "print('b:\\n',b)\n",
    "\n",
    "b[1][1] = 10\n",
    "\n",
    "print('a:\\n',a)\n",
    "\n",
    "print('\\n',id(a)) #Print python object id\n",
    "print(id(b))\n"
   ]
  },
  {
   "cell_type": "code",
   "execution_count": null,
   "metadata": {},
   "outputs": [],
   "source": [
    "#Deep copy\n",
    "\n",
    "a = np.array([[1,3], [2, 4]])\n",
    "print('a:\\n',a)\n",
    "\n",
    "b = a.copy()\n",
    "\n",
    "print('\\n',id(a)) #Print python object id\n",
    "print(id(b))"
   ]
  }
 ],
 "metadata": {
  "kernelspec": {
   "display_name": "Python 3",
   "language": "python",
   "name": "python3"
  },
  "language_info": {
   "codemirror_mode": {
    "name": "ipython",
    "version": 3
   },
   "file_extension": ".py",
   "mimetype": "text/x-python",
   "name": "python",
   "nbconvert_exporter": "python",
   "pygments_lexer": "ipython3",
   "version": "3.7.3"
  }
 },
 "nbformat": 4,
 "nbformat_minor": 2
}
