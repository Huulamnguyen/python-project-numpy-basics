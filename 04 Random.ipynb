{
 "cells": [
  {
   "cell_type": "markdown",
   "metadata": {},
   "source": [
    "## Random Numbers"
   ]
  },
  {
   "cell_type": "markdown",
   "metadata": {},
   "source": [
    "Reference: https://docs.python.org/3/library/random.html\n",
    "\n",
    "Random numbers are created by chance\n",
    "Random numbers are uncorrelated\n",
    "Computers create pseudo random numbers. Not completely random but good enough\n",
    "Computer random number generators generate pseudo random numbers\n",
    "Pseudo random numbers should not be used in security related tasks\n",
    "Python uses the Mersenne Twister algorithm to generate pseudo random numbers\n",
    "\n",
    "There is a module in python that generates random numbers\n",
    "\n",
    "The random module in python is coded in C\n"
   ]
  },
  {
   "cell_type": "code",
   "execution_count": 1,
   "metadata": {},
   "outputs": [],
   "source": [
    "import random as rnd #Importing the random module and calling it rnd"
   ]
  },
  {
   "cell_type": "code",
   "execution_count": 2,
   "metadata": {},
   "outputs": [
    {
     "name": "stdout",
     "output_type": "stream",
     "text": [
      "0.6070083170698312\n",
      "0.24704314079932177\n",
      "0.8774632325999246\n",
      "0.07057328971173726\n",
      "0.20202874314888242\n"
     ]
    }
   ],
   "source": [
    "#Generarting random numbers\n",
    "for i in range(5):\n",
    "    print(rnd.random()) #Using the function random in the module rdn \n",
    "#The function random() generates a random number from 0 to 1 uniformly distributed\n",
    "#Running the code multiple times generates different random numbers"
   ]
  },
  {
   "cell_type": "code",
   "execution_count": 3,
   "metadata": {},
   "outputs": [
    {
     "name": "stdout",
     "output_type": "stream",
     "text": [
      "12\n",
      "45\n",
      "30\n",
      "4\n",
      "37\n"
     ]
    }
   ],
   "source": [
    "#Integer random numbers\n",
    "for i in range(5):\n",
    "    print(rnd.randint(0,50)) #Integer random numbers between two values"
   ]
  },
  {
   "cell_type": "code",
   "execution_count": 4,
   "metadata": {},
   "outputs": [
    {
     "name": "stdout",
     "output_type": "stream",
     "text": [
      "6\n"
     ]
    }
   ],
   "source": [
    "#Select one random element from a list\n",
    "mylist = [1, 10, 'd', False, [2,3], 6, (3, 5, 8)] \n",
    "print(rnd.choice(mylist))"
   ]
  },
  {
   "cell_type": "code",
   "execution_count": 5,
   "metadata": {},
   "outputs": [
    {
     "name": "stdout",
     "output_type": "stream",
     "text": [
      "[10, 9, 6, 1]\n"
     ]
    }
   ],
   "source": [
    "#Select a sample of elements from a list\n",
    "x = [1,2,3,4,5,6,7,8,9,10]\n",
    "print(rnd.sample(x,4)) #Select a sample of 4 diffent ones randomly  "
   ]
  },
  {
   "cell_type": "code",
   "execution_count": 6,
   "metadata": {},
   "outputs": [
    {
     "name": "stdout",
     "output_type": "stream",
     "text": [
      "[5, 6, 7, 8, 1, 4, 10, 3, 9, 2]\n"
     ]
    }
   ],
   "source": [
    "#shuffle a list\n",
    "x = [1,2,3,4,5,6,7,8,9,10]\n",
    "print(rnd.sample(x,len(x))) #len(x) returns the size of the list"
   ]
  },
  {
   "cell_type": "code",
   "execution_count": 73,
   "metadata": {},
   "outputs": [
    {
     "data": {
      "text/plain": [
       "45"
      ]
     },
     "execution_count": 73,
     "metadata": {},
     "output_type": "execute_result"
    }
   ],
   "source": [
    "#Other usefuls codes\n",
    "rnd.randrange(0, 101, 2) # even randon number between 0 and 100\n",
    "\n",
    "rnd.randrange(0, 101, 5) # randon number multiple of 5 between 0 and 100"
   ]
  },
  {
   "cell_type": "code",
   "execution_count": 72,
   "metadata": {},
   "outputs": [
    {
     "name": "stdout",
     "output_type": "stream",
     "text": [
      "72\n"
     ]
    }
   ],
   "source": [
    "rnd.seed(10) #Seed will generate the same list always. Useful when testing programs\n",
    "\n",
    "print(rnd.randrange(0, 101, 2))\n",
    "\n",
    "rnd.seed() #Removing the seed"
   ]
  },
  {
   "cell_type": "markdown",
   "metadata": {},
   "source": [
    "Random numbers following different distribuions:"
   ]
  },
  {
   "cell_type": "code",
   "execution_count": 11,
   "metadata": {},
   "outputs": [
    {
     "name": "stdout",
     "output_type": "stream",
     "text": [
      "[12.808236257754004, 14.689679123990983, 16.441486200591854, 16.100946173870764, 15.35755230753768]\n"
     ]
    }
   ],
   "source": [
    "#Uniform distributed random numbers\n",
    "mylist = [] \n",
    "for i in range(5):\n",
    "    mylist.append(rnd.uniform(10,20))\n",
    "    \n",
    "print(mylist)"
   ]
  },
  {
   "cell_type": "code",
   "execution_count": 15,
   "metadata": {},
   "outputs": [
    {
     "name": "stdout",
     "output_type": "stream",
     "text": [
      "[6.286907182303752, 8.814214930530255, 6.16823301148297, 10.176217620763811, 9.259869361971653]\n"
     ]
    }
   ],
   "source": [
    "#Triangle distribution\n",
    "\n",
    "mylist = [rnd.triangular(5, 8, 15) for i in range(5)] #Same as the loop above\n",
    "print(mylist)\n"
   ]
  },
  {
   "cell_type": "code",
   "execution_count": 18,
   "metadata": {},
   "outputs": [
    {
     "name": "stdout",
     "output_type": "stream",
     "text": [
      "0.1309743636678933\n",
      "0.009224039041644804\n",
      "0.049190806661692545\n",
      "0.2217417082217601\n",
      "0.10410860406920257\n"
     ]
    }
   ],
   "source": [
    "#Beta distribution\n",
    "for i in range(5):\n",
    "    print(rnd.betavariate(1,9)) #alpha, beta"
   ]
  },
  {
   "cell_type": "code",
   "execution_count": 19,
   "metadata": {},
   "outputs": [
    {
     "name": "stdout",
     "output_type": "stream",
     "text": [
      "0.04728014250155365\n",
      "0.25152948161345673\n",
      "0.1660517754478844\n",
      "0.08413868396991377\n",
      "0.21203250278391517\n"
     ]
    }
   ],
   "source": [
    "#Exponential distribution\n",
    "for i in range(5):\n",
    "    print(rnd.expovariate(5)) #1/lambda"
   ]
  },
  {
   "cell_type": "code",
   "execution_count": 28,
   "metadata": {},
   "outputs": [
    {
     "name": "stdout",
     "output_type": "stream",
     "text": [
      "14.187916369930566\n",
      "12.642320375092389\n"
     ]
    }
   ],
   "source": [
    "#Normal distribution (gauss is faster than normalvariate)\n",
    "\n",
    "print(rnd.gauss(10, 3)) #mu, sigma\n",
    "print(rnd.normalvariate(10, 3)) #mu, sigma"
   ]
  },
  {
   "cell_type": "code",
   "execution_count": 32,
   "metadata": {},
   "outputs": [
    {
     "name": "stdout",
     "output_type": "stream",
     "text": [
      "29972.57978383071\n",
      "1.3581710186485716\n",
      "0.041479459378761394\n",
      "43.93259533166013\n",
      "3.2875052296497724\n"
     ]
    }
   ],
   "source": [
    "#other distributions:\n",
    "\n",
    "print(rnd.lognormvariate(10, 3)) #lognormal(mu, sigma)\n",
    "\n",
    "print(rnd.paretovariate(10)) #Pareto(alpha)\n",
    "\n",
    "print(rnd.betavariate(1,9)) #Beta(alpha, beta)\n",
    "\n",
    "print(rnd.gammavariate(5, 8)) #Gamma(alpha, beta)\n",
    "\n",
    "print(rnd.weibullvariate(5, 8)) #Weibull(alpha, beta)\n"
   ]
  }
 ],
 "metadata": {
  "kernelspec": {
   "display_name": "Python 3",
   "language": "python",
   "name": "python3"
  },
  "language_info": {
   "codemirror_mode": {
    "name": "ipython",
    "version": 3
   },
   "file_extension": ".py",
   "mimetype": "text/x-python",
   "name": "python",
   "nbconvert_exporter": "python",
   "pygments_lexer": "ipython3",
   "version": "3.7.3"
  }
 },
 "nbformat": 4,
 "nbformat_minor": 2
}
